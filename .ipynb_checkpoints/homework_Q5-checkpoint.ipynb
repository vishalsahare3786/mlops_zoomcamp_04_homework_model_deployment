{
 "cells": [
  {
   "cell_type": "markdown",
   "id": "fa6e3b28-800f-485f-a35a-6873b9b8e8c7",
   "metadata": {},
   "source": [
    "## Q5. Parametrize the script\n",
    "Let's now make the script configurable via CLI. We'll create two parameters: year and month.\n",
    "\n",
    "Run the script for April 2023.\n",
    "\n",
    "What's the mean predicted duration?\n",
    "\n",
    "7.29\n",
    "\n",
    "14.29\n",
    "\n",
    "21.29\n",
    "\n",
    "28.29\n",
    "\n",
    "Hint: just add a print statement to your script."
   ]
  },
  {
   "cell_type": "code",
   "execution_count": 1,
   "id": "97866773-abfb-4e5d-af17-d96cb69a5ec8",
   "metadata": {},
   "outputs": [],
   "source": [
    "import pickle\n",
    "import pandas as pd\n",
    "import sklearn"
   ]
  },
  {
   "cell_type": "code",
   "execution_count": 2,
   "id": "99bd10de-2a80-427c-b9a9-298b23bcde4f",
   "metadata": {},
   "outputs": [],
   "source": [
    "year = 2023\n",
    "month = 4\n",
    "\n",
    "input_file = f'https://d37ci6vzurychx.cloudfront.net/trip-data/yellow_tripdata_{year:04d}-{month:02d}.parquet'\n",
    "output_file = f'output/yellow_tripdata_{year:04d}-{month:02d}.parquet'"
   ]
  },
  {
   "cell_type": "code",
   "execution_count": null,
   "id": "c14e3c82-c422-4f8e-ab73-e713d9286071",
   "metadata": {},
   "outputs": [],
   "source": []
  },
  {
   "cell_type": "code",
   "execution_count": null,
   "id": "710857cf-2acc-45d7-8c82-258f9d1948dd",
   "metadata": {},
   "outputs": [],
   "source": []
  },
  {
   "cell_type": "code",
   "execution_count": null,
   "id": "af692d24-e03a-4bec-b847-dbbe020f71dc",
   "metadata": {},
   "outputs": [],
   "source": []
  }
 ],
 "metadata": {
  "kernelspec": {
   "display_name": "Python 3 (ipykernel)",
   "language": "python",
   "name": "python3"
  },
  "language_info": {
   "codemirror_mode": {
    "name": "ipython",
    "version": 3
   },
   "file_extension": ".py",
   "mimetype": "text/x-python",
   "name": "python",
   "nbconvert_exporter": "python",
   "pygments_lexer": "ipython3",
   "version": "3.12.1"
  }
 },
 "nbformat": 4,
 "nbformat_minor": 5
}
