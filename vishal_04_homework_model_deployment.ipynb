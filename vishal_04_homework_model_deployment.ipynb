{
 "cells": [
  {
   "cell_type": "markdown",
   "id": "9b242865-a1d0-4f58-8eec-a4d5385d9bfa",
   "metadata": {},
   "source": [
    "# Vishal's Homework"
   ]
  },
  {
   "cell_type": "markdown",
   "id": "8f72f237-ff94-4651-af6f-b2f8916c9441",
   "metadata": {},
   "source": [
    "#mlops_zoomcamp_04_homework_model_deployment"
   ]
  },
  {
   "cell_type": "code",
   "execution_count": null,
   "id": "79cb6809-cc04-48bb-95a0-e12204b1a776",
   "metadata": {},
   "outputs": [],
   "source": []
  },
  {
   "cell_type": "code",
   "execution_count": null,
   "id": "b71c60e0-0e5f-42d4-968f-1739b32d9bda",
   "metadata": {},
   "outputs": [],
   "source": []
  },
  {
   "cell_type": "code",
   "execution_count": null,
   "id": "8dde28d0-40cd-4818-8adf-79137763b15e",
   "metadata": {},
   "outputs": [],
   "source": []
  },
  {
   "cell_type": "code",
   "execution_count": null,
   "id": "e755f575-0764-4eb5-866a-51ba106ae07a",
   "metadata": {},
   "outputs": [],
   "source": []
  },
  {
   "cell_type": "code",
   "execution_count": null,
   "id": "0e9c9d76-b7db-4a84-ba23-ffbd55a86003",
   "metadata": {},
   "outputs": [],
   "source": []
  }
 ],
 "metadata": {
  "kernelspec": {
   "display_name": "Python 3 (ipykernel)",
   "language": "python",
   "name": "python3"
  },
  "language_info": {
   "codemirror_mode": {
    "name": "ipython",
    "version": 3
   },
   "file_extension": ".py",
   "mimetype": "text/x-python",
   "name": "python",
   "nbconvert_exporter": "python",
   "pygments_lexer": "ipython3",
   "version": "3.12.1"
  }
 },
 "nbformat": 4,
 "nbformat_minor": 5
}
