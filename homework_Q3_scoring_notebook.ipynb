{
 "cells": [
  {
   "cell_type": "markdown",
   "id": "22e38409-9275-4f71-87b1-b016f6ee2fd7",
   "metadata": {},
   "source": [
    "## Q3. Creating the scoring script\n",
    "Now let's turn the notebook into a script.\n",
    "\n",
    "Which command you need to execute for that?"
   ]
  },
  {
   "cell_type": "code",
   "execution_count": 2,
   "id": "0129e929-eb6c-4e0f-a122-f271025fd7e0",
   "metadata": {},
   "outputs": [],
   "source": [
    "# scoring \n",
    "import pickle\n",
    "\n",
    "with open('model.bin', 'rb') as f_in:\n",
    "    (dv, model) = pickle.load(f_in)\n",
    "\n",
    "\n",
    "def prepare_features(ride):\n",
    "    features = {}\n",
    "    features['PU_DO'] = '%s_%s' % (ride['PULocationID'], ride['DOLocationID'])\n",
    "    features['trip_distance'] = ride['trip_distance']\n",
    "    return features\n",
    "\n",
    "\n",
    "def predict(features):\n",
    "    X = dv.transform(features)\n",
    "    preds = model.predict(X)\n",
    "    return float(preds[0])\n",
    "\n"
   ]
  },
  {
   "cell_type": "code",
   "execution_count": null,
   "id": "24ebb2c0-4e52-40c8-817a-a3b8fb2fcc23",
   "metadata": {},
   "outputs": [],
   "source": [
    "\n",
    "ride = {\n",
    "    \"PULocationID\": 10,\n",
    "    \"DOLocationID\": 50,\n",
    "    \"trip_distance\": 40\n",
    "}\n",
    "\n",
    "prepare_features"
   ]
  },
  {
   "cell_type": "code",
   "execution_count": null,
   "id": "49451e67-0c24-4a6b-b62e-6aabfd2d821f",
   "metadata": {},
   "outputs": [],
   "source": []
  },
  {
   "cell_type": "code",
   "execution_count": null,
   "id": "15fbdc71-2259-470c-93eb-17b0a80291a5",
   "metadata": {},
   "outputs": [],
   "source": []
  }
 ],
 "metadata": {
  "kernelspec": {
   "display_name": "Python 3 (ipykernel)",
   "language": "python",
   "name": "python3"
  },
  "language_info": {
   "codemirror_mode": {
    "name": "ipython",
    "version": 3
   },
   "file_extension": ".py",
   "mimetype": "text/x-python",
   "name": "python",
   "nbconvert_exporter": "python",
   "pygments_lexer": "ipython3",
   "version": "3.12.1"
  }
 },
 "nbformat": 4,
 "nbformat_minor": 5
}
